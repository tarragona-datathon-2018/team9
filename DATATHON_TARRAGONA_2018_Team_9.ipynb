{
  "nbformat": 4,
  "nbformat_minor": 0,
  "metadata": {
    "colab": {
      "name": "DATATHON TARRAGONA 2018  - Team 9",
      "version": "0.3.2",
      "provenance": [],
      "collapsed_sections": []
    }
  },
  "cells": [
    {
      "metadata": {
        "id": "6fr_A5J1tVFQ",
        "colab_type": "text"
      },
      "cell_type": "markdown",
      "source": [
        "Copyright 2018 Google Inc.\n",
        "\n",
        "Licensed under the Apache License, Version 2.0 (the \"License\"); you may not use this file except in compliance with the License. You may obtain a copy of the License at\n",
        "\n",
        "> https://www.apache.org/licenses/LICENSE-2.0\n",
        "\n",
        "Unless required by applicable law or agreed to in writing, software distributed under the License is distributed on an \"AS IS\" BASIS, WITHOUT WARRANTIES OR CONDITIONS OF ANY KIND, either express or implied. See the License for the specific language governing permissions and limitations under the License."
      ]
    },
    {
      "metadata": {
        "id": "uAJBpZXBKX-1",
        "colab_type": "text"
      },
      "cell_type": "markdown",
      "source": [
        "This notebook tries to  predict the discharge ICU using MIMIC-III database (team 9 challenge). It was created in the DATATHON TARRAGONA 2018 (http://www.datathontarragona.com/).\n",
        "\n",
        "#### Pitcher:\n",
        "\n",
        "* Daniel Cañueto\n",
        "\n",
        "#### Team members:\n",
        "\n",
        "* Xavier Borrat\n",
        "* Jesús Caballero\n",
        "* Cecilia Cuzco\n",
        "* Bruna Corrêa\n",
        "* Antonio Oscar Gallesio\n",
        "* Montserrat Rodríguez\n",
        "* Carme Zambrana\n",
        "\n",
        "\n",
        "\n"
      ]
    },
    {
      "metadata": {
        "id": "xks2nlrtt-um",
        "colab_type": "text"
      },
      "cell_type": "markdown",
      "source": [
        "## ICU discharge prediction\n",
        "\n",
        "Logistic in ICU is an important issue due to the high number of admission requests and the scarce number of available beds. Having an accurate estimator of the time for discharge for the patients admitted would be of huge importance for unit management. The aim of this project is to create this prognosis estimator of the time for discharge. We will focus on patients with sepsis that spent at least 3 days in the ICU and were discharged alive."
      ]
    },
    {
      "metadata": {
        "id": "rS9g4-r7uohe",
        "colab_type": "code",
        "colab": {}
      },
      "cell_type": "code",
      "source": [
        "# Import libraries\n",
        "import numpy as np\n",
        "import os\n",
        "import pandas as pd\n",
        "import matplotlib.pyplot as plt\n",
        "import matplotlib.patches as patches\n",
        "import matplotlib.path as path\n",
        "import tensorflow as tf\n",
        "\n",
        "# Below imports are used to print out pretty pandas dataframes\n",
        "from IPython.display import display, HTML\n",
        "\n",
        "# Imports for accessing Datathon data using Google BigQuery.\n",
        "from google.colab import auth\n",
        "from google.cloud import bigquery\n",
        "\n",
        "import seaborn as sns"
      ],
      "execution_count": 0,
      "outputs": []
    },
    {
      "metadata": {
        "id": "HDL3CjUKvddl",
        "colab_type": "code",
        "colab": {}
      },
      "cell_type": "code",
      "source": [
        "auth.authenticate_user()"
      ],
      "execution_count": 0,
      "outputs": []
    },
    {
      "metadata": {
        "id": "nx4ZDlJ6we9j",
        "colab_type": "code",
        "colab": {}
      },
      "cell_type": "code",
      "source": [
        "project_id='datathon-tarragona-2018'\n",
        "os.environ[\"GOOGLE_CLOUD_PROJECT\"]=project_id"
      ],
      "execution_count": 0,
      "outputs": []
    },
    {
      "metadata": {
        "id": "ZondovXiw-zq",
        "colab_type": "text"
      },
      "cell_type": "markdown",
      "source": [
        "Let's define a few methods to wrap BigQuery operations, so that we don't have to write the configurations again and again."
      ]
    },
    {
      "metadata": {
        "id": "DIbbCE3YxLdM",
        "colab_type": "code",
        "colab": {}
      },
      "cell_type": "code",
      "source": [
        "# Read data from BigQuery into pandas dataframes.\n",
        "def run_query(query):\n",
        "  return pd.io.gbq.read_gbq(query, project_id=project_id, verbose=False, configuration={'query':{'useLegacySql': False}})"
      ],
      "execution_count": 0,
      "outputs": []
    },
    {
      "metadata": {
        "id": "7wh4aG6fRubd",
        "colab_type": "text"
      },
      "cell_type": "markdown",
      "source": [
        "## Data collection\n",
        "\n",
        "\n",
        "We will focus on patients with:\n",
        "\n",
        "sepsis that  and .\n",
        "\n",
        "*  Sepsis (using the angus score)\n",
        "*  Spent at least 3 days in the ICU\n",
        "* They were discharged alive\n",
        "\n",
        "\n",
        "Note: for simplicity we will use each ICU stay as a new patient although that will introduce possible correlation. A better criteria should be used.\n",
        "\n",
        "\n"
      ]
    },
    {
      "metadata": {
        "id": "mE70knlrm1J1",
        "colab_type": "code",
        "colab": {}
      },
      "cell_type": "code",
      "source": [
        "df = run_query('''\n",
        "SELECT out.ICUSTAY_ID, out.intime, out.outtime, ad.deathtime\n",
        "  FROM (`physionet-data.mimiciii_clinical.icustays` as out  \n",
        "  LEFT JOIN `physionet-data.mimiciii_derived.angus_sepsis` as an ON an.hadm_id = out.hadm_id)\n",
        "  LEFT JOIN `physionet-data.mimiciii_clinical.admissions` as ad ON ad.hadm_id = out.hadm_id\n",
        "  WHERE an.angus = 1\n",
        "        AND out.los > 3.0\n",
        "        AND (ad.deathtime > out.outtime OR ad.deathtime IS NULL)''')"
      ],
      "execution_count": 0,
      "outputs": []
    },
    {
      "metadata": {
        "id": "MVvkvaG-lgGf",
        "colab_type": "code",
        "outputId": "0b46db79-6b67-487e-f874-52d796935993",
        "colab": {
          "base_uri": "https://localhost:8080/",
          "height": 85
        }
      },
      "cell_type": "code",
      "source": [
        "dict_ns = { \n",
        "'ICU stays' : run_query('''\n",
        "SELECT ICUSTAY_ID\n",
        "FROM `physionet-data.mimiciii_clinical.icustays`\n",
        "''').shape[0],\n",
        " 'ICU stays related with Sepsis' : \n",
        " run_query('''\n",
        "SELECT out.ICUSTAY_ID\n",
        "  FROM `physionet-data.mimiciii_clinical.icustays` as out\n",
        "  LEFT JOIN `physionet-data.mimiciii_derived.angus_sepsis` as an ON an.hadm_id = out.hadm_id\n",
        "  WHERE an.angus = 1''').shape[0],\n",
        " 'ICU stays related with Sepsis that stayed more than 3 days' :\n",
        "run_query('''\n",
        "SELECT out.ICUSTAY_ID\n",
        "  FROM `physionet-data.mimiciii_clinical.icustays` as out\n",
        "  LEFT JOIN `physionet-data.mimiciii_derived.angus_sepsis` as an ON an.hadm_id = out.hadm_id\n",
        "  WHERE an.angus = 1 \n",
        "        AND out.los > 3.0''').shape[0],\n",
        "'ICU stays related with Sepsis that stayed more than 3 days and were discharged alive' : df.shape[0]\n",
        "}\n",
        "\n",
        "dict_ns"
      ],
      "execution_count": 0,
      "outputs": [
        {
          "output_type": "execute_result",
          "data": {
            "text/plain": [
              "{'ICU stays': 61532,\n",
              " 'ICU stays related with Sepsis': 17420,\n",
              " 'ICU stays related with Sepsis that stayed more than 3 days': 10240,\n",
              " 'ICU stays related with Sepsis that stayed more than 3 days and were discharged alive': 8568}"
            ]
          },
          "metadata": {
            "tags": []
          },
          "execution_count": 22
        }
      ]
    },
    {
      "metadata": {
        "id": "Lhn0CeXDIXzV",
        "colab_type": "code",
        "outputId": "ce02fcb4-3563-4d52-e719-0448eda2ba75",
        "colab": {
          "base_uri": "https://localhost:8080/",
          "height": 34
        }
      },
      "cell_type": "code",
      "source": [
        "dfSeveralICUStays = run_query('''\n",
        "WITH dataset as (\n",
        "SELECT out.ICUSTAY_ID, out.intime, out.outtime, ad.deathtime, out.hadm_id\n",
        "  FROM (`physionet-data.mimiciii_clinical.icustays` as out  \n",
        "  LEFT JOIN `physionet-data.mimiciii_derived.angus_sepsis` as an ON an.hadm_id = out.hadm_id)\n",
        "  LEFT JOIN `physionet-data.mimiciii_clinical.admissions` as ad ON ad.hadm_id = out.hadm_id\n",
        "  WHERE an.angus = 1\n",
        "        AND out.los > 3.0\n",
        "        AND (ad.deathtime > out.outtime OR ad.deathtime IS NULL))\n",
        "  SELECT COUNT(ICUSTAY_ID) as numberStaysPerHospAdmission\n",
        "  FROM dataset\n",
        "  GROUP BY (hadm_id)\n",
        "  ''')\n",
        "\n",
        "print(dfSeveralICUStays[dfSeveralICUStays['numberStaysPerHospAdmission'] > 1].shape[0] )"
      ],
      "execution_count": 0,
      "outputs": [
        {
          "output_type": "stream",
          "text": [
            "540\n"
          ],
          "name": "stdout"
        }
      ]
    },
    {
      "metadata": {
        "id": "2ZU-yc4CI8-z",
        "colab_type": "text"
      },
      "cell_type": "markdown",
      "source": [
        "### LETS GET THE VARIABLES"
      ]
    },
    {
      "metadata": {
        "id": "6SYdqopByPZy",
        "colab_type": "text"
      },
      "cell_type": "markdown",
      "source": [
        "SOFA"
      ]
    },
    {
      "metadata": {
        "id": "MUXZnnEsd78Q",
        "colab_type": "code",
        "outputId": "f8678cab-4ccc-4d1b-ace5-3b4de16db186",
        "colab": {
          "base_uri": "https://localhost:8080/",
          "height": 221
        }
      },
      "cell_type": "code",
      "source": [
        "dfSofa = run_query('''\n",
        "SELECT out.ICUSTAY_ID, s.sofa, COALESCE(s.respiration,0)+COALESCE(s.cardiovascular,0)+COALESCE(s.cns,0) as msofa\n",
        "  FROM (`physionet-data.mimiciii_clinical.icustays` as out  \n",
        "  LEFT JOIN `physionet-data.mimiciii_derived.angus_sepsis` as an ON an.hadm_id = out.hadm_id)\n",
        "  LEFT JOIN `physionet-data.mimiciii_clinical.admissions` as ad ON ad.hadm_id = out.hadm_id\n",
        "  LEFT JOIN `physionet-data.mimiciii_derived.sofa` as s ON s.ICUSTAY_ID = out.ICUSTAY_ID\n",
        "  WHERE an.angus = 1\n",
        "        AND out.los > 3.0\n",
        "        AND (ad.deathtime > out.outtime OR ad.deathtime IS NULL)'''\n",
        "              \n",
        "              )\n",
        "\n",
        "print dfSofa.shape\n",
        "dfSofa.head()"
      ],
      "execution_count": 0,
      "outputs": [
        {
          "output_type": "stream",
          "text": [
            "(8568, 3)\n"
          ],
          "name": "stdout"
        },
        {
          "output_type": "execute_result",
          "data": {
            "text/html": [
              "<div>\n",
              "<style scoped>\n",
              "    .dataframe tbody tr th:only-of-type {\n",
              "        vertical-align: middle;\n",
              "    }\n",
              "\n",
              "    .dataframe tbody tr th {\n",
              "        vertical-align: top;\n",
              "    }\n",
              "\n",
              "    .dataframe thead th {\n",
              "        text-align: right;\n",
              "    }\n",
              "</style>\n",
              "<table border=\"1\" class=\"dataframe\">\n",
              "  <thead>\n",
              "    <tr style=\"text-align: right;\">\n",
              "      <th></th>\n",
              "      <th>ICUSTAY_ID</th>\n",
              "      <th>sofa</th>\n",
              "      <th>msofa</th>\n",
              "    </tr>\n",
              "  </thead>\n",
              "  <tbody>\n",
              "    <tr>\n",
              "      <th>0</th>\n",
              "      <td>225122</td>\n",
              "      <td>0</td>\n",
              "      <td>0</td>\n",
              "    </tr>\n",
              "    <tr>\n",
              "      <th>1</th>\n",
              "      <td>283375</td>\n",
              "      <td>0</td>\n",
              "      <td>0</td>\n",
              "    </tr>\n",
              "    <tr>\n",
              "      <th>2</th>\n",
              "      <td>208941</td>\n",
              "      <td>0</td>\n",
              "      <td>0</td>\n",
              "    </tr>\n",
              "    <tr>\n",
              "      <th>3</th>\n",
              "      <td>288262</td>\n",
              "      <td>0</td>\n",
              "      <td>0</td>\n",
              "    </tr>\n",
              "    <tr>\n",
              "      <th>4</th>\n",
              "      <td>242687</td>\n",
              "      <td>0</td>\n",
              "      <td>0</td>\n",
              "    </tr>\n",
              "  </tbody>\n",
              "</table>\n",
              "</div>"
            ],
            "text/plain": [
              "   ICUSTAY_ID  sofa  msofa\n",
              "0      225122     0      0\n",
              "1      283375     0      0\n",
              "2      208941     0      0\n",
              "3      288262     0      0\n",
              "4      242687     0      0"
            ]
          },
          "metadata": {
            "tags": []
          },
          "execution_count": 24
        }
      ]
    },
    {
      "metadata": {
        "id": "fbNkGNplzP-J",
        "colab_type": "text"
      },
      "cell_type": "markdown",
      "source": [
        "LACTATE\n",
        "\n",
        "--> diferencia al ingreso y al tercer día"
      ]
    },
    {
      "metadata": {
        "id": "S85hyHyc30sx",
        "colab_type": "code",
        "outputId": "f94eb7f6-2406-4007-9986-d13d4a2d9a3e",
        "colab": {
          "base_uri": "https://localhost:8080/",
          "height": 221
        }
      },
      "cell_type": "code",
      "source": [
        "dfLactateAdICU = run_query('''\n",
        "WITH lactate as (SELECT out.ICUSTAY_ID, charEV.CHARTTIME, charEV.VALUENUM, out.INTIME\n",
        "  FROM (`physionet-data.mimiciii_clinical.admissions` as ad \n",
        "  LEFT JOIN `physionet-data.mimiciii_clinical.icustays` as out ON ad.HADM_ID=out.HADM_ID)\n",
        "  LEFT JOIN `physionet-data.mimiciii_derived.angus_sepsis` as an ON an.hadm_id = ad.hadm_id\n",
        "  LEFT JOIN `physionet-data.mimiciii_clinical.labevents` as charEV ON charEV.HADM_ID = out.HADM_ID\n",
        "  WHERE an.angus = 1\n",
        "        AND out.los > 3.0\n",
        "        AND (ad.deathtime > out.outtime OR ad.deathtime IS NULL)\n",
        "        AND charEV.ITEMID = 50813\n",
        "  )\n",
        "SELECT lactate.ICUSTAY_ID, lactate.VALUENUM as lactateleveladICU\n",
        "  FROM \n",
        "  (SELECT lactate.ICUSTAY_ID, MIN(lactate.CHARTTIME) as HOURCHARTTIMEFROMADMISSIONICU\n",
        "  FROM lactate\n",
        "  WHERE lactate.CHARTTIME BETWEEN lactate.intime AND DATETIME_ADD(lactate.intime,  INTERVAL 24 hour)\n",
        "  GROUP BY lactate.ICUSTAY_ID) as tmp, lactate\n",
        "  WHERE tmp.ICUSTAY_ID = lactate.ICUSTAY_ID AND tmp.HOURCHARTTIMEFROMADMISSIONICU = lactate.CHARTTIME\n",
        "  ORDER BY lactate.ICUSTAY_ID\n",
        "''')\n",
        " \n",
        "print dfLactateAdICU.shape\n",
        "dfLactateAdICU.head()"
      ],
      "execution_count": 0,
      "outputs": [
        {
          "output_type": "stream",
          "text": [
            "(5414, 2)\n"
          ],
          "name": "stdout"
        },
        {
          "output_type": "execute_result",
          "data": {
            "text/html": [
              "<div>\n",
              "<style scoped>\n",
              "    .dataframe tbody tr th:only-of-type {\n",
              "        vertical-align: middle;\n",
              "    }\n",
              "\n",
              "    .dataframe tbody tr th {\n",
              "        vertical-align: top;\n",
              "    }\n",
              "\n",
              "    .dataframe thead th {\n",
              "        text-align: right;\n",
              "    }\n",
              "</style>\n",
              "<table border=\"1\" class=\"dataframe\">\n",
              "  <thead>\n",
              "    <tr style=\"text-align: right;\">\n",
              "      <th></th>\n",
              "      <th>ICUSTAY_ID</th>\n",
              "      <th>lactateleveladICU</th>\n",
              "    </tr>\n",
              "  </thead>\n",
              "  <tbody>\n",
              "    <tr>\n",
              "      <th>0</th>\n",
              "      <td>200003</td>\n",
              "      <td>5.1</td>\n",
              "    </tr>\n",
              "    <tr>\n",
              "      <th>1</th>\n",
              "      <td>200030</td>\n",
              "      <td>4.0</td>\n",
              "    </tr>\n",
              "    <tr>\n",
              "      <th>2</th>\n",
              "      <td>200063</td>\n",
              "      <td>4.9</td>\n",
              "    </tr>\n",
              "    <tr>\n",
              "      <th>3</th>\n",
              "      <td>200065</td>\n",
              "      <td>10.1</td>\n",
              "    </tr>\n",
              "    <tr>\n",
              "      <th>4</th>\n",
              "      <td>200087</td>\n",
              "      <td>2.2</td>\n",
              "    </tr>\n",
              "  </tbody>\n",
              "</table>\n",
              "</div>"
            ],
            "text/plain": [
              "   ICUSTAY_ID  lactateleveladICU\n",
              "0      200003                5.1\n",
              "1      200030                4.0\n",
              "2      200063                4.9\n",
              "3      200065               10.1\n",
              "4      200087                2.2"
            ]
          },
          "metadata": {
            "tags": []
          },
          "execution_count": 25
        }
      ]
    },
    {
      "metadata": {
        "id": "DMYKH0YysmBM",
        "colab_type": "code",
        "outputId": "c5605b20-f9c8-4919-89f0-1d6c6d80b062",
        "colab": {
          "base_uri": "https://localhost:8080/",
          "height": 221
        }
      },
      "cell_type": "code",
      "source": [
        "dfLactate72AdICU = run_query('''\n",
        "WITH lactate as (SELECT out.ICUSTAY_ID, charEV.CHARTTIME, charEV.VALUENUM, out.INTIME\n",
        "  FROM (`physionet-data.mimiciii_clinical.admissions` as ad \n",
        "  LEFT JOIN `physionet-data.mimiciii_clinical.icustays` as out ON ad.HADM_ID=out.HADM_ID)\n",
        "  LEFT JOIN `physionet-data.mimiciii_derived.angus_sepsis` as an ON an.hadm_id = ad.hadm_id\n",
        "  LEFT JOIN `physionet-data.mimiciii_clinical.labevents` as charEV ON charEV.HADM_ID = out.HADM_ID\n",
        "  WHERE an.angus = 1\n",
        "        AND out.los > 3.0\n",
        "        AND (ad.deathtime > out.outtime OR ad.deathtime IS NULL)\n",
        "        AND charEV.ITEMID = 50813\n",
        "  )SELECT lactate.ICUSTAY_ID, lactate.VALUENUM as lactatelevel72adICU\n",
        "  FROM \n",
        "  (SELECT lactate.ICUSTAY_ID, MIN(lactate.CHARTTIME) as HOURCHARTTIMEFROMADMISSIONICU\n",
        "  FROM lactate\n",
        "  WHERE lactate.CHARTTIME BETWEEN DATETIME_ADD(lactate.intime,  INTERVAL 72 hour) AND DATETIME_ADD(lactate.intime,  INTERVAL 96 hour)\n",
        "  GROUP BY lactate.ICUSTAY_ID) as tmp, lactate\n",
        "  WHERE tmp.ICUSTAY_ID = lactate.ICUSTAY_ID AND tmp.HOURCHARTTIMEFROMADMISSIONICU = lactate.CHARTTIME\n",
        "  ORDER BY lactate.ICUSTAY_ID, lactate.CHARTTIME\n",
        "''')\n",
        " \n",
        "print dfLactate72AdICU.shape\n",
        "dfLactate72AdICU.head()"
      ],
      "execution_count": 0,
      "outputs": [
        {
          "output_type": "stream",
          "text": [
            "(2059, 2)\n"
          ],
          "name": "stdout"
        },
        {
          "output_type": "execute_result",
          "data": {
            "text/html": [
              "<div>\n",
              "<style scoped>\n",
              "    .dataframe tbody tr th:only-of-type {\n",
              "        vertical-align: middle;\n",
              "    }\n",
              "\n",
              "    .dataframe tbody tr th {\n",
              "        vertical-align: top;\n",
              "    }\n",
              "\n",
              "    .dataframe thead th {\n",
              "        text-align: right;\n",
              "    }\n",
              "</style>\n",
              "<table border=\"1\" class=\"dataframe\">\n",
              "  <thead>\n",
              "    <tr style=\"text-align: right;\">\n",
              "      <th></th>\n",
              "      <th>ICUSTAY_ID</th>\n",
              "      <th>lactatelevel72adICU</th>\n",
              "    </tr>\n",
              "  </thead>\n",
              "  <tbody>\n",
              "    <tr>\n",
              "      <th>0</th>\n",
              "      <td>200003</td>\n",
              "      <td>1.0</td>\n",
              "    </tr>\n",
              "    <tr>\n",
              "      <th>1</th>\n",
              "      <td>200030</td>\n",
              "      <td>1.1</td>\n",
              "    </tr>\n",
              "    <tr>\n",
              "      <th>2</th>\n",
              "      <td>200063</td>\n",
              "      <td>1.3</td>\n",
              "    </tr>\n",
              "    <tr>\n",
              "      <th>3</th>\n",
              "      <td>200065</td>\n",
              "      <td>3.1</td>\n",
              "    </tr>\n",
              "    <tr>\n",
              "      <th>4</th>\n",
              "      <td>200077</td>\n",
              "      <td>2.0</td>\n",
              "    </tr>\n",
              "  </tbody>\n",
              "</table>\n",
              "</div>"
            ],
            "text/plain": [
              "   ICUSTAY_ID  lactatelevel72adICU\n",
              "0      200003                  1.0\n",
              "1      200030                  1.1\n",
              "2      200063                  1.3\n",
              "3      200065                  3.1\n",
              "4      200077                  2.0"
            ]
          },
          "metadata": {
            "tags": []
          },
          "execution_count": 26
        }
      ]
    },
    {
      "metadata": {
        "id": "Yt5UHtpAcO1q",
        "colab_type": "code",
        "outputId": "9d66bfd3-828a-4386-b23d-6709e071c1cb",
        "colab": {
          "base_uri": "https://localhost:8080/",
          "height": 221
        }
      },
      "cell_type": "code",
      "source": [
        "dfLactate72AdICU2 = run_query('''\n",
        "WITH lactate as (SELECT out.ICUSTAY_ID, charEV.CHARTTIME, charEV.VALUENUM, out.INTIME\n",
        "  FROM (`physionet-data.mimiciii_clinical.admissions` as ad \n",
        "  LEFT JOIN `physionet-data.mimiciii_clinical.icustays` as out ON ad.HADM_ID=out.HADM_ID)\n",
        "  LEFT JOIN `physionet-data.mimiciii_derived.angus_sepsis` as an ON an.hadm_id = ad.hadm_id\n",
        "  LEFT JOIN `physionet-data.mimiciii_clinical.labevents` as charEV ON charEV.HADM_ID = out.HADM_ID\n",
        "  WHERE an.angus = 1\n",
        "        AND out.los > 3.0\n",
        "        AND (ad.deathtime > out.outtime OR ad.deathtime IS NULL)\n",
        "        AND charEV.ITEMID = 50813\n",
        "  )\n",
        "  \n",
        "  SELECT lactate.ICUSTAY_ID, MAX(lactate.VALUENUM) as maxLactetate72ICUad\n",
        "  FROM lactate\n",
        "  WHERE lactate.CHARTTIME BETWEEN DATETIME_ADD(lactate.intime,  INTERVAL 72 hour) AND DATETIME_ADD(lactate.intime,  INTERVAL 96 hour)\n",
        "  GROUP BY lactate.ICUSTAY_ID\n",
        "''')\n",
        " \n",
        "print dfLactate72AdICU2.shape\n",
        "dfLactate72AdICU2.head()"
      ],
      "execution_count": 0,
      "outputs": [
        {
          "output_type": "stream",
          "text": [
            "(2059, 2)\n"
          ],
          "name": "stdout"
        },
        {
          "output_type": "execute_result",
          "data": {
            "text/html": [
              "<div>\n",
              "<style scoped>\n",
              "    .dataframe tbody tr th:only-of-type {\n",
              "        vertical-align: middle;\n",
              "    }\n",
              "\n",
              "    .dataframe tbody tr th {\n",
              "        vertical-align: top;\n",
              "    }\n",
              "\n",
              "    .dataframe thead th {\n",
              "        text-align: right;\n",
              "    }\n",
              "</style>\n",
              "<table border=\"1\" class=\"dataframe\">\n",
              "  <thead>\n",
              "    <tr style=\"text-align: right;\">\n",
              "      <th></th>\n",
              "      <th>ICUSTAY_ID</th>\n",
              "      <th>maxLactetate72ICUad</th>\n",
              "    </tr>\n",
              "  </thead>\n",
              "  <tbody>\n",
              "    <tr>\n",
              "      <th>0</th>\n",
              "      <td>255154</td>\n",
              "      <td>NaN</td>\n",
              "    </tr>\n",
              "    <tr>\n",
              "      <th>1</th>\n",
              "      <td>207278</td>\n",
              "      <td>2.0</td>\n",
              "    </tr>\n",
              "    <tr>\n",
              "      <th>2</th>\n",
              "      <td>251035</td>\n",
              "      <td>2.0</td>\n",
              "    </tr>\n",
              "    <tr>\n",
              "      <th>3</th>\n",
              "      <td>267207</td>\n",
              "      <td>2.0</td>\n",
              "    </tr>\n",
              "    <tr>\n",
              "      <th>4</th>\n",
              "      <td>284798</td>\n",
              "      <td>2.0</td>\n",
              "    </tr>\n",
              "  </tbody>\n",
              "</table>\n",
              "</div>"
            ],
            "text/plain": [
              "   ICUSTAY_ID  maxLactetate72ICUad\n",
              "0      255154                  NaN\n",
              "1      207278                  2.0\n",
              "2      251035                  2.0\n",
              "3      267207                  2.0\n",
              "4      284798                  2.0"
            ]
          },
          "metadata": {
            "tags": []
          },
          "execution_count": 27
        }
      ]
    },
    {
      "metadata": {
        "id": "WicWuPkIGpga",
        "colab_type": "code",
        "colab": {}
      },
      "cell_type": "code",
      "source": [
        ""
      ],
      "execution_count": 0,
      "outputs": []
    },
    {
      "metadata": {
        "id": "8KkzUz3W4udk",
        "colab_type": "code",
        "outputId": "0a581ccc-e2de-4378-c6f0-d5cc8cdca0fe",
        "colab": {
          "base_uri": "https://localhost:8080/",
          "height": 221
        }
      },
      "cell_type": "code",
      "source": [
        "dfLactate = dfLactateAdICU.merge(dfLactate72AdICU, how='inner', on='ICUSTAY_ID')\n",
        "dfLactate = dfLactate.merge(dfLactate72AdICU2, how='inner', on='ICUSTAY_ID')\n",
        "dfLactate.insert(1, 'DiffLactateLevel', dfLactate['lactatelevel72adICU'] - dfLactate['lactateleveladICU'])\n",
        "print dfLactate.shape\n",
        "dfLactate.head()"
      ],
      "execution_count": 0,
      "outputs": [
        {
          "output_type": "stream",
          "text": [
            "(1652, 5)\n"
          ],
          "name": "stdout"
        },
        {
          "output_type": "execute_result",
          "data": {
            "text/html": [
              "<div>\n",
              "<style scoped>\n",
              "    .dataframe tbody tr th:only-of-type {\n",
              "        vertical-align: middle;\n",
              "    }\n",
              "\n",
              "    .dataframe tbody tr th {\n",
              "        vertical-align: top;\n",
              "    }\n",
              "\n",
              "    .dataframe thead th {\n",
              "        text-align: right;\n",
              "    }\n",
              "</style>\n",
              "<table border=\"1\" class=\"dataframe\">\n",
              "  <thead>\n",
              "    <tr style=\"text-align: right;\">\n",
              "      <th></th>\n",
              "      <th>ICUSTAY_ID</th>\n",
              "      <th>DiffLactateLevel</th>\n",
              "      <th>lactateleveladICU</th>\n",
              "      <th>lactatelevel72adICU</th>\n",
              "      <th>maxLactetate72ICUad</th>\n",
              "    </tr>\n",
              "  </thead>\n",
              "  <tbody>\n",
              "    <tr>\n",
              "      <th>0</th>\n",
              "      <td>200003</td>\n",
              "      <td>-4.1</td>\n",
              "      <td>5.1</td>\n",
              "      <td>1.0</td>\n",
              "      <td>1.0</td>\n",
              "    </tr>\n",
              "    <tr>\n",
              "      <th>1</th>\n",
              "      <td>200030</td>\n",
              "      <td>-2.9</td>\n",
              "      <td>4.0</td>\n",
              "      <td>1.1</td>\n",
              "      <td>1.1</td>\n",
              "    </tr>\n",
              "    <tr>\n",
              "      <th>2</th>\n",
              "      <td>200063</td>\n",
              "      <td>-3.6</td>\n",
              "      <td>4.9</td>\n",
              "      <td>1.3</td>\n",
              "      <td>1.3</td>\n",
              "    </tr>\n",
              "    <tr>\n",
              "      <th>3</th>\n",
              "      <td>200065</td>\n",
              "      <td>-7.0</td>\n",
              "      <td>10.1</td>\n",
              "      <td>3.1</td>\n",
              "      <td>4.2</td>\n",
              "    </tr>\n",
              "    <tr>\n",
              "      <th>4</th>\n",
              "      <td>200140</td>\n",
              "      <td>-0.5</td>\n",
              "      <td>1.7</td>\n",
              "      <td>1.2</td>\n",
              "      <td>1.2</td>\n",
              "    </tr>\n",
              "  </tbody>\n",
              "</table>\n",
              "</div>"
            ],
            "text/plain": [
              "   ICUSTAY_ID  DiffLactateLevel  lactateleveladICU  lactatelevel72adICU  \\\n",
              "0      200003              -4.1                5.1                  1.0   \n",
              "1      200030              -2.9                4.0                  1.1   \n",
              "2      200063              -3.6                4.9                  1.3   \n",
              "3      200065              -7.0               10.1                  3.1   \n",
              "4      200140              -0.5                1.7                  1.2   \n",
              "\n",
              "   maxLactetate72ICUad  \n",
              "0                  1.0  \n",
              "1                  1.1  \n",
              "2                  1.3  \n",
              "3                  4.2  \n",
              "4                  1.2  "
            ]
          },
          "metadata": {
            "tags": []
          },
          "execution_count": 28
        }
      ]
    },
    {
      "metadata": {
        "id": "WTSawkhP37HV",
        "colab_type": "text"
      },
      "cell_type": "markdown",
      "source": [
        "MECHANICAL VENTILATION\n",
        "\n",
        "--> 72h"
      ]
    },
    {
      "metadata": {
        "id": "pMF9UtXO64PS",
        "colab_type": "code",
        "outputId": "9559f8b9-e4ac-42e9-fb9f-544044b788c6",
        "colab": {
          "base_uri": "https://localhost:8080/",
          "height": 221
        }
      },
      "cell_type": "code",
      "source": [
        "dfVentilation72adICU = run_query('''\n",
        "WITH ventilation as (SELECT out.ICUSTAY_ID, charEV.CHARTTIME, charEV.VALUE, out.INTIME\n",
        "  FROM (`physionet-data.mimiciii_clinical.admissions` as ad \n",
        "  LEFT JOIN `physionet-data.mimiciii_clinical.icustays` as out ON ad.HADM_ID=out.HADM_ID)\n",
        "  LEFT JOIN `physionet-data.mimiciii_derived.angus_sepsis` as an ON an.hadm_id = ad.hadm_id\n",
        "  LEFT JOIN `physionet-data.mimiciii_clinical.labevents` as charEV ON charEV.HADM_ID = out.HADM_ID\n",
        "  WHERE an.angus = 1\n",
        "        AND out.los > 3.0\n",
        "        AND (ad.deathtime > out.outtime OR ad.deathtime IS NULL)\n",
        "        AND charEV.ITEMID = 50812\n",
        "  )SELECT ventilation.ICUSTAY_ID, \n",
        "  CASE\n",
        "    WHEN ventilation.VALUE = 'INTUBATED' THEN 1\n",
        "    ELSE 0\n",
        "    END AS ventilationlevel72adICU\n",
        "  FROM \n",
        "  (SELECT ventilation.ICUSTAY_ID, MIN(ventilation.CHARTTIME) as HOURCHARTTIMEFROMADMISSIONICU,  MAX(ventilation.CHARTTIME) as MAXHOURCHARTTIMEFROMADMISSIONICU\n",
        "  FROM ventilation\n",
        "  WHERE ventilation.CHARTTIME BETWEEN DATETIME_ADD(ventilation.intime,  INTERVAL 72 hour) AND DATETIME_ADD(ventilation.intime,  INTERVAL 78 hour)\n",
        "  GROUP BY ventilation.ICUSTAY_ID) as tmp, ventilation\n",
        "  WHERE tmp.ICUSTAY_ID = ventilation.ICUSTAY_ID AND tmp.HOURCHARTTIMEFROMADMISSIONICU = ventilation.CHARTTIME\n",
        "''')\n",
        "\n",
        "print dfVentilation72adICU.shape\n",
        "dfVentilation72adICU.head()"
      ],
      "execution_count": 0,
      "outputs": [
        {
          "output_type": "stream",
          "text": [
            "(946, 2)\n"
          ],
          "name": "stdout"
        },
        {
          "output_type": "execute_result",
          "data": {
            "text/html": [
              "<div>\n",
              "<style scoped>\n",
              "    .dataframe tbody tr th:only-of-type {\n",
              "        vertical-align: middle;\n",
              "    }\n",
              "\n",
              "    .dataframe tbody tr th {\n",
              "        vertical-align: top;\n",
              "    }\n",
              "\n",
              "    .dataframe thead th {\n",
              "        text-align: right;\n",
              "    }\n",
              "</style>\n",
              "<table border=\"1\" class=\"dataframe\">\n",
              "  <thead>\n",
              "    <tr style=\"text-align: right;\">\n",
              "      <th></th>\n",
              "      <th>ICUSTAY_ID</th>\n",
              "      <th>ventilationlevel72adICU</th>\n",
              "    </tr>\n",
              "  </thead>\n",
              "  <tbody>\n",
              "    <tr>\n",
              "      <th>0</th>\n",
              "      <td>217675</td>\n",
              "      <td>0</td>\n",
              "    </tr>\n",
              "    <tr>\n",
              "      <th>1</th>\n",
              "      <td>229896</td>\n",
              "      <td>0</td>\n",
              "    </tr>\n",
              "    <tr>\n",
              "      <th>2</th>\n",
              "      <td>225177</td>\n",
              "      <td>0</td>\n",
              "    </tr>\n",
              "    <tr>\n",
              "      <th>3</th>\n",
              "      <td>206077</td>\n",
              "      <td>0</td>\n",
              "    </tr>\n",
              "    <tr>\n",
              "      <th>4</th>\n",
              "      <td>209656</td>\n",
              "      <td>0</td>\n",
              "    </tr>\n",
              "  </tbody>\n",
              "</table>\n",
              "</div>"
            ],
            "text/plain": [
              "   ICUSTAY_ID  ventilationlevel72adICU\n",
              "0      217675                        0\n",
              "1      229896                        0\n",
              "2      225177                        0\n",
              "3      206077                        0\n",
              "4      209656                        0"
            ]
          },
          "metadata": {
            "tags": []
          },
          "execution_count": 29
        }
      ]
    },
    {
      "metadata": {
        "id": "51HckHhu5yQJ",
        "colab_type": "text"
      },
      "cell_type": "markdown",
      "source": [
        "MORE VARIABLES\n",
        "\n",
        "* Age at ICU admission time\n",
        "* Number of days between Hospital admission and ICU admission\n",
        "* If  the admission was for Emergency\n",
        "\n"
      ]
    },
    {
      "metadata": {
        "id": "tFnpv3zVXonR",
        "colab_type": "code",
        "outputId": "85ab8cfc-ac86-46de-9ea1-8002641fe75d",
        "colab": {
          "base_uri": "https://localhost:8080/",
          "height": 221
        }
      },
      "cell_type": "code",
      "source": [
        "dfNewVariables = run_query('''\n",
        "SELECT uci.ICUSTAY_ID,  uci.admission_age, DATETIME_DIFF(uci.intime,hosp.ADMITTIME,DAY) as d_pre_ingres,\n",
        "    CASE\n",
        "    WHEN uci.admission_type = 'EMERGENCY' THEN 1\n",
        "    ELSE 0\n",
        "    END AS ad_type\n",
        "FROM `physionet-data.mimiciii_derived.icustay_detail` as uci\n",
        "INNER JOIN  `physionet-data.mimiciii_clinical.admissions` AS hosp ON hosp.hadm_id=uci.hadm_id\n",
        "WHERE uci.admission_type <> 'NEWBORN'\n",
        "      AND uci.admission_age > 18\n",
        "  ''')\n",
        "\n",
        "print dfNewVariables.shape\n",
        "dfNewVariables.head()"
      ],
      "execution_count": 0,
      "outputs": [
        {
          "output_type": "stream",
          "text": [
            "(52798, 4)\n"
          ],
          "name": "stdout"
        },
        {
          "output_type": "execute_result",
          "data": {
            "text/html": [
              "<div>\n",
              "<style scoped>\n",
              "    .dataframe tbody tr th:only-of-type {\n",
              "        vertical-align: middle;\n",
              "    }\n",
              "\n",
              "    .dataframe tbody tr th {\n",
              "        vertical-align: top;\n",
              "    }\n",
              "\n",
              "    .dataframe thead th {\n",
              "        text-align: right;\n",
              "    }\n",
              "</style>\n",
              "<table border=\"1\" class=\"dataframe\">\n",
              "  <thead>\n",
              "    <tr style=\"text-align: right;\">\n",
              "      <th></th>\n",
              "      <th>ICUSTAY_ID</th>\n",
              "      <th>admission_age</th>\n",
              "      <th>d_pre_ingres</th>\n",
              "      <th>ad_type</th>\n",
              "    </tr>\n",
              "  </thead>\n",
              "  <tbody>\n",
              "    <tr>\n",
              "      <th>0</th>\n",
              "      <td>253318</td>\n",
              "      <td>19</td>\n",
              "      <td>0</td>\n",
              "      <td>1</td>\n",
              "    </tr>\n",
              "    <tr>\n",
              "      <th>1</th>\n",
              "      <td>265859</td>\n",
              "      <td>19</td>\n",
              "      <td>0</td>\n",
              "      <td>1</td>\n",
              "    </tr>\n",
              "    <tr>\n",
              "      <th>2</th>\n",
              "      <td>275243</td>\n",
              "      <td>19</td>\n",
              "      <td>0</td>\n",
              "      <td>1</td>\n",
              "    </tr>\n",
              "    <tr>\n",
              "      <th>3</th>\n",
              "      <td>270849</td>\n",
              "      <td>19</td>\n",
              "      <td>0</td>\n",
              "      <td>1</td>\n",
              "    </tr>\n",
              "    <tr>\n",
              "      <th>4</th>\n",
              "      <td>299760</td>\n",
              "      <td>19</td>\n",
              "      <td>0</td>\n",
              "      <td>1</td>\n",
              "    </tr>\n",
              "  </tbody>\n",
              "</table>\n",
              "</div>"
            ],
            "text/plain": [
              "   ICUSTAY_ID  admission_age  d_pre_ingres  ad_type\n",
              "0      253318             19             0        1\n",
              "1      265859             19             0        1\n",
              "2      275243             19             0        1\n",
              "3      270849             19             0        1\n",
              "4      299760             19             0        1"
            ]
          },
          "metadata": {
            "tags": []
          },
          "execution_count": 30
        }
      ]
    },
    {
      "metadata": {
        "id": "lXf8qf2-gObZ",
        "colab_type": "code",
        "colab": {}
      },
      "cell_type": "code",
      "source": [
        "new_age = np.where(dfNewVariables['admission_age'].values >= 300, 90, dfNewVariables['admission_age'].values)\n",
        "dfNewVariables.insert(1, 'ad_age', new_age)"
      ],
      "execution_count": 0,
      "outputs": []
    },
    {
      "metadata": {
        "id": "-qp5qqPKIVPv",
        "colab_type": "text"
      },
      "cell_type": "markdown",
      "source": [
        "### Target Variable\n",
        "\n",
        "\n",
        "\n",
        "*   Real ICU stay from ICU in time to callout time"
      ]
    },
    {
      "metadata": {
        "id": "Xkpo2lskIUwF",
        "colab_type": "code",
        "outputId": "93b40bea-a45e-4f76-daef-651106f67e7d",
        "colab": {
          "base_uri": "https://localhost:8080/",
          "height": 221
        }
      },
      "cell_type": "code",
      "source": [
        "dfTargetValue = run_query('''\n",
        "WITH cout as (SELECT out.ICUSTAY_ID, co.createtime, out.intime\n",
        "  FROM (`physionet-data.mimiciii_clinical.icustays` as out  \n",
        "  LEFT JOIN `physionet-data.mimiciii_derived.angus_sepsis` as an ON an.hadm_id = out.hadm_id)\n",
        "  LEFT JOIN `physionet-data.mimiciii_clinical.admissions` as ad ON ad.hadm_id = out.hadm_id\n",
        "  LEFT JOIN `physionet-data.mimiciii_clinical.callout` as co ON co.hadm_id = out.hadm_id\n",
        "  WHERE an.angus = 1\n",
        "        AND out.los > 3.0\n",
        "        AND (ad.deathtime > out.outtime OR ad.deathtime IS NULL)\n",
        "        AND co.createtime BETWEEN out.intime and out.outtime\n",
        "  )\n",
        "  SELECT ICUSTAY_ID, MIN(DATETIME_DIFF(CREATETIME, intime, DAY)) as days_in_ICU\n",
        "  FROM cout\n",
        "  GROUP BY ICUSTAY_ID''')\n",
        "\n",
        "\n",
        "\n",
        "print dfTargetValue.shape\n",
        "dfTargetValue.head()"
      ],
      "execution_count": 0,
      "outputs": [
        {
          "output_type": "stream",
          "text": [
            "(5089, 2)\n"
          ],
          "name": "stdout"
        },
        {
          "output_type": "execute_result",
          "data": {
            "text/html": [
              "<div>\n",
              "<style scoped>\n",
              "    .dataframe tbody tr th:only-of-type {\n",
              "        vertical-align: middle;\n",
              "    }\n",
              "\n",
              "    .dataframe tbody tr th {\n",
              "        vertical-align: top;\n",
              "    }\n",
              "\n",
              "    .dataframe thead th {\n",
              "        text-align: right;\n",
              "    }\n",
              "</style>\n",
              "<table border=\"1\" class=\"dataframe\">\n",
              "  <thead>\n",
              "    <tr style=\"text-align: right;\">\n",
              "      <th></th>\n",
              "      <th>ICUSTAY_ID</th>\n",
              "      <th>days_in_ICU</th>\n",
              "    </tr>\n",
              "  </thead>\n",
              "  <tbody>\n",
              "    <tr>\n",
              "      <th>0</th>\n",
              "      <td>289487</td>\n",
              "      <td>0</td>\n",
              "    </tr>\n",
              "    <tr>\n",
              "      <th>1</th>\n",
              "      <td>251729</td>\n",
              "      <td>0</td>\n",
              "    </tr>\n",
              "    <tr>\n",
              "      <th>2</th>\n",
              "      <td>281453</td>\n",
              "      <td>0</td>\n",
              "    </tr>\n",
              "    <tr>\n",
              "      <th>3</th>\n",
              "      <td>213339</td>\n",
              "      <td>0</td>\n",
              "    </tr>\n",
              "    <tr>\n",
              "      <th>4</th>\n",
              "      <td>288590</td>\n",
              "      <td>0</td>\n",
              "    </tr>\n",
              "  </tbody>\n",
              "</table>\n",
              "</div>"
            ],
            "text/plain": [
              "   ICUSTAY_ID  days_in_ICU\n",
              "0      289487            0\n",
              "1      251729            0\n",
              "2      281453            0\n",
              "3      213339            0\n",
              "4      288590            0"
            ]
          },
          "metadata": {
            "tags": []
          },
          "execution_count": 32
        }
      ]
    },
    {
      "metadata": {
        "id": "NsmOvBP59g03",
        "colab_type": "text"
      },
      "cell_type": "markdown",
      "source": [
        "### Baseline Dataset\n",
        "\n",
        "\n",
        "* SOFA score at ICU admission time\n",
        "* Lactate difference between ICU admission time and after 72h\n",
        "* Maximum value lactate after 72h ICU admission\n",
        "* Mecanical ventilation after 72h  ICU admission\n",
        "* Age at ICU admission time\n",
        "* Number of days between Hospital admission and ICU admission\n",
        "* If  the admission was for Emergency\n",
        "\n"
      ]
    },
    {
      "metadata": {
        "id": "C6pk0umv9jQP",
        "colab_type": "code",
        "outputId": "0dd9d6c7-cc1c-4bee-e66b-15f8f49ae27d",
        "colab": {
          "base_uri": "https://localhost:8080/",
          "height": 241
        }
      },
      "cell_type": "code",
      "source": [
        "dfBaseline = pd.merge(dfSofa[['ICUSTAY_ID', 'msofa']], dfLactate[['ICUSTAY_ID', 'DiffLactateLevel', 'maxLactetate72ICUad']], on='ICUSTAY_ID')\n",
        "dfBaseline = pd.merge(dfBaseline, dfVentilation72adICU, on='ICUSTAY_ID')\n",
        "dfBaseline = pd.merge(dfBaseline, dfNewVariables, on='ICUSTAY_ID')\n",
        "dfBaseline = pd.merge(dfBaseline, dfTargetValue, on='ICUSTAY_ID')\n",
        "\n",
        "\n",
        "print dfBaseline.shape\n",
        "dfBaseline.head()"
      ],
      "execution_count": 0,
      "outputs": [
        {
          "output_type": "stream",
          "text": [
            "(125, 10)\n"
          ],
          "name": "stdout"
        },
        {
          "output_type": "execute_result",
          "data": {
            "text/html": [
              "<div>\n",
              "<style scoped>\n",
              "    .dataframe tbody tr th:only-of-type {\n",
              "        vertical-align: middle;\n",
              "    }\n",
              "\n",
              "    .dataframe tbody tr th {\n",
              "        vertical-align: top;\n",
              "    }\n",
              "\n",
              "    .dataframe thead th {\n",
              "        text-align: right;\n",
              "    }\n",
              "</style>\n",
              "<table border=\"1\" class=\"dataframe\">\n",
              "  <thead>\n",
              "    <tr style=\"text-align: right;\">\n",
              "      <th></th>\n",
              "      <th>ICUSTAY_ID</th>\n",
              "      <th>msofa</th>\n",
              "      <th>DiffLactateLevel</th>\n",
              "      <th>maxLactetate72ICUad</th>\n",
              "      <th>ventilationlevel72adICU</th>\n",
              "      <th>ad_age</th>\n",
              "      <th>admission_age</th>\n",
              "      <th>d_pre_ingres</th>\n",
              "      <th>ad_type</th>\n",
              "      <th>days_in_ICU</th>\n",
              "    </tr>\n",
              "  </thead>\n",
              "  <tbody>\n",
              "    <tr>\n",
              "      <th>0</th>\n",
              "      <td>287339</td>\n",
              "      <td>0</td>\n",
              "      <td>0.7</td>\n",
              "      <td>1.8</td>\n",
              "      <td>1</td>\n",
              "      <td>36</td>\n",
              "      <td>36</td>\n",
              "      <td>8</td>\n",
              "      <td>1</td>\n",
              "      <td>11</td>\n",
              "    </tr>\n",
              "    <tr>\n",
              "      <th>1</th>\n",
              "      <td>277388</td>\n",
              "      <td>0</td>\n",
              "      <td>-1.5</td>\n",
              "      <td>0.7</td>\n",
              "      <td>1</td>\n",
              "      <td>24</td>\n",
              "      <td>24</td>\n",
              "      <td>0</td>\n",
              "      <td>1</td>\n",
              "      <td>26</td>\n",
              "    </tr>\n",
              "    <tr>\n",
              "      <th>2</th>\n",
              "      <td>290135</td>\n",
              "      <td>0</td>\n",
              "      <td>-3.2</td>\n",
              "      <td>1.0</td>\n",
              "      <td>1</td>\n",
              "      <td>19</td>\n",
              "      <td>19</td>\n",
              "      <td>0</td>\n",
              "      <td>1</td>\n",
              "      <td>8</td>\n",
              "    </tr>\n",
              "    <tr>\n",
              "      <th>3</th>\n",
              "      <td>248839</td>\n",
              "      <td>0</td>\n",
              "      <td>-0.3</td>\n",
              "      <td>1.0</td>\n",
              "      <td>1</td>\n",
              "      <td>56</td>\n",
              "      <td>56</td>\n",
              "      <td>0</td>\n",
              "      <td>1</td>\n",
              "      <td>17</td>\n",
              "    </tr>\n",
              "    <tr>\n",
              "      <th>4</th>\n",
              "      <td>225095</td>\n",
              "      <td>0</td>\n",
              "      <td>-1.5</td>\n",
              "      <td>1.0</td>\n",
              "      <td>1</td>\n",
              "      <td>78</td>\n",
              "      <td>78</td>\n",
              "      <td>0</td>\n",
              "      <td>1</td>\n",
              "      <td>2</td>\n",
              "    </tr>\n",
              "  </tbody>\n",
              "</table>\n",
              "</div>"
            ],
            "text/plain": [
              "   ICUSTAY_ID  msofa  DiffLactateLevel  maxLactetate72ICUad  \\\n",
              "0      287339      0               0.7                  1.8   \n",
              "1      277388      0              -1.5                  0.7   \n",
              "2      290135      0              -3.2                  1.0   \n",
              "3      248839      0              -0.3                  1.0   \n",
              "4      225095      0              -1.5                  1.0   \n",
              "\n",
              "   ventilationlevel72adICU  ad_age  admission_age  d_pre_ingres  ad_type  \\\n",
              "0                        1      36             36             8        1   \n",
              "1                        1      24             24             0        1   \n",
              "2                        1      19             19             0        1   \n",
              "3                        1      56             56             0        1   \n",
              "4                        1      78             78             0        1   \n",
              "\n",
              "   days_in_ICU  \n",
              "0           11  \n",
              "1           26  \n",
              "2            8  \n",
              "3           17  \n",
              "4            2  "
            ]
          },
          "metadata": {
            "tags": []
          },
          "execution_count": 33
        }
      ]
    },
    {
      "metadata": {
        "id": "Ms76SDcTJP88",
        "colab_type": "code",
        "outputId": "0d3b654c-ab67-4bda-b059-54557f1c2397",
        "colab": {
          "base_uri": "https://localhost:8080/",
          "height": 396
        }
      },
      "cell_type": "code",
      "source": [
        "dfBaseline.hist('days_in_ICU')"
      ],
      "execution_count": 0,
      "outputs": [
        {
          "output_type": "execute_result",
          "data": {
            "text/plain": [
              "array([[<matplotlib.axes._subplots.AxesSubplot object at 0x7f559f827550>]],\n",
              "      dtype=object)"
            ]
          },
          "metadata": {
            "tags": []
          },
          "execution_count": 34
        },
        {
          "output_type": "display_data",
          "data": {
            "image/png": "[encoded data removed]",
            "text/plain": [
              "<matplotlib.figure.Figure at 0x7f559f827f90>"
            ]
          },
          "metadata": {
            "tags": []
          }
        }
      ]
    },
    {
      "metadata": {
        "id": "qnPTcIUGJQib",
        "colab_type": "text"
      },
      "cell_type": "markdown",
      "source": [
        "The patients who stay more than 20 days in the ICU are outlier. We decided to excluded them."
      ]
    },
    {
      "metadata": {
        "id": "OchC-gNQmY6I",
        "colab_type": "code",
        "outputId": "8a26fb98-c69b-42e3-efde-e00e13023479",
        "colab": {
          "base_uri": "https://localhost:8080/",
          "height": 34
        }
      },
      "cell_type": "code",
      "source": [
        "dfBaseline = dfBaseline[dfBaseline['days_in_ICU'] < 20]\n",
        "dfBaseline.shape"
      ],
      "execution_count": 0,
      "outputs": [
        {
          "output_type": "execute_result",
          "data": {
            "text/plain": [
              "(108, 10)"
            ]
          },
          "metadata": {
            "tags": []
          },
          "execution_count": 35
        }
      ]
    },
    {
      "metadata": {
        "id": "qWKSo1vxQvYJ",
        "colab_type": "text"
      },
      "cell_type": "markdown",
      "source": [
        "## Analysis"
      ]
    },
    {
      "metadata": {
        "id": "6_IBdR8LRLOc",
        "colab_type": "code",
        "colab": {}
      },
      "cell_type": "code",
      "source": [
        "features = ['msofa', 'DiffLactateLevel', 'ventilationlevel72adICU', 'maxLactetate72ICUad', 'ad_age', \t'd_pre_ingres', 'ad_type']\n",
        "target = ['days_in_ICU']"
      ],
      "execution_count": 0,
      "outputs": []
    },
    {
      "metadata": {
        "id": "yI_TWYYMQzFh",
        "colab_type": "text"
      },
      "cell_type": "markdown",
      "source": [
        "### Exploring the dataset"
      ]
    },
    {
      "metadata": {
        "id": "h7PzwZW3QrCH",
        "colab_type": "code",
        "colab": {}
      },
      "cell_type": "code",
      "source": [
        "from google.colab import files\n",
        "import seaborn as sns; sns.set(style=\"ticks\", color_codes=True)\n",
        "import matplotlib.pyplot as plt"
      ],
      "execution_count": 0,
      "outputs": []
    },
    {
      "metadata": {
        "id": "aCnL3ZdrRGe4",
        "colab_type": "code",
        "outputId": "a8639a43-4fd2-4a23-c487-6155822890d9",
        "colab": {
          "base_uri": "https://localhost:8080/",
          "height": 1465
        }
      },
      "cell_type": "code",
      "source": [
        "sns.pairplot(dfBaseline[features + target])\n",
        "\n",
        "plt.savefig(\"Pariplot.png\")\n",
        "files.download(\"Pariplot.png\") "
      ],
      "execution_count": 0,
      "outputs": [
        {
          "output_type": "display_data",
          "data": {
            "image/png": "[encoded data removed]",
            "text/plain": [
              "<matplotlib.figure.Figure at 0x7f559ed031d0>"
            ]
          },
          "metadata": {
            "tags": []
          }
        }
      ]
    },
    {
      "metadata": {
        "id": "lLKhW58vRF2q",
        "colab_type": "text"
      },
      "cell_type": "markdown",
      "source": [
        "### Splitting dataset"
      ]
    },
    {
      "metadata": {
        "id": "oPrSgQcRieKA",
        "colab_type": "code",
        "colab": {}
      },
      "cell_type": "code",
      "source": [
        "from sklearn.model_selection import train_test_split, GridSearchCV"
      ],
      "execution_count": 0,
      "outputs": []
    },
    {
      "metadata": {
        "id": "E8XTi9w4TRPN",
        "colab_type": "code",
        "colab": {}
      },
      "cell_type": "code",
      "source": [
        "X = dfBaseline[features].values\n",
        "y = dfBaseline[target].values\n",
        "X_train, X_test, y_train, y_test = train_test_split(X, y, test_size=0.33, random_state=0)\n",
        "df_train = pd.DataFrame(X_train, columns=features)\n",
        "df_train.insert(0, target[0], y_train)\n",
        "\n",
        "df_test = pd.DataFrame(X_test, columns=features)\n",
        "df_test.insert(0, target[0], y_test)"
      ],
      "execution_count": 0,
      "outputs": []
    },
    {
      "metadata": {
        "id": "TfFfdJ0rTzP3",
        "colab_type": "code",
        "outputId": "cc794027-033b-446f-e962-9b6c89cb8886",
        "colab": {
          "base_uri": "https://localhost:8080/",
          "height": 376
        }
      },
      "cell_type": "code",
      "source": [
        "sns.distplot(y_train)\n",
        "sns.distplot(y_test)"
      ],
      "execution_count": 0,
      "outputs": [
        {
          "output_type": "execute_result",
          "data": {
            "text/plain": [
              "<matplotlib.axes._subplots.AxesSubplot at 0x7f5598a19350>"
            ]
          },
          "metadata": {
            "tags": []
          },
          "execution_count": 41
        },
        {
          "output_type": "display_data",
          "data": {
            "image/png": "[encoded data removed]",
            "text/plain": [
              "<matplotlib.figure.Figure at 0x7f5598a70850>"
            ]
          },
          "metadata": {
            "tags": []
          }
        }
      ]
    },
    {
      "metadata": {
        "id": "Md9DtmKTCXpO",
        "colab_type": "text"
      },
      "cell_type": "markdown",
      "source": [
        "### Random Forest"
      ]
    },
    {
      "metadata": {
        "id": "g-ZID8aRCW2t",
        "colab_type": "code",
        "colab": {}
      },
      "cell_type": "code",
      "source": [
        "from sklearn.ensemble import RandomForestRegressor\n",
        "from sklearn.datasets import make_regression\n",
        "from sklearn import metrics"
      ],
      "execution_count": 0,
      "outputs": []
    },
    {
      "metadata": {
        "id": "2LRB6EZJJDPY",
        "colab_type": "code",
        "colab": {}
      },
      "cell_type": "code",
      "source": [
        "n_estimators_RF =  [5,10,15,20,25,30,35]\n",
        "max_features_RF = [2,3,4,5,6,7]\n",
        "\n",
        "\n",
        "tuned_parameters = {\"n_estimators\": n_estimators_RF, \n",
        "                         \"max_features\": max_features_RF}"
      ],
      "execution_count": 0,
      "outputs": []
    },
    {
      "metadata": {
        "id": "MJLKf5snKd0h",
        "colab_type": "code",
        "outputId": "9dcbb0c1-df2e-45eb-eb1d-255b98e7ea6f",
        "colab": {
          "base_uri": "https://localhost:8080/",
          "height": 102
        }
      },
      "cell_type": "code",
      "source": [
        "clf = GridSearchCV(RandomForestRegressor(n_jobs=-1, random_state=0), tuned_parameters, cv=5, scoring='neg_mean_squared_error')\n",
        "clf.fit(X_train, y_train.ravel())\n",
        "\n",
        "print(\"Best parameters set found on development set:\")\n",
        "print(clf.best_params_)\n",
        "print clf.best_score_\n",
        "print clf.best_estimator_.feature_importances_\n",
        "\n",
        "y_pred = clf.predict(X_test)"
      ],
      "execution_count": 0,
      "outputs": [
        {
          "output_type": "stream",
          "text": [
            "Best parameters set found on development set:\n",
            "{'max_features': 3, 'n_estimators': 15}\n",
            "-20.698641975308643\n",
            "[0.10073045 0.20786635 0.1618814  0.20359981 0.20900382 0.10623891\n",
            " 0.01067926]\n"
          ],
          "name": "stdout"
        }
      ]
    },
    {
      "metadata": {
        "id": "kKNfxtjejFwu",
        "colab_type": "code",
        "outputId": "8ec161d7-4262-46ef-afeb-158b9fd8215a",
        "colab": {
          "base_uri": "https://localhost:8080/",
          "height": 68
        }
      },
      "cell_type": "code",
      "source": [
        "meanValue = np.mean(y_train)\n",
        "print( meanValue)\n",
        "y_med = np.full(y_test.shape[0], np.mean(y_train))\n",
        "print metrics.mean_squared_error(y_test, y_pred)\n",
        "print metrics.mean_squared_error(y_test, y_med)"
      ],
      "execution_count": 0,
      "outputs": [
        {
          "output_type": "stream",
          "text": [
            "9.791666666666666\n",
            "24.525432098765435\n",
            "27.571180555555557\n"
          ],
          "name": "stdout"
        }
      ]
    },
    {
      "metadata": {
        "id": "quGBrSLrRDTJ",
        "colab_type": "code",
        "colab": {}
      },
      "cell_type": "code",
      "source": [
        "df_test = pd.DataFrame(X_test, columns=features)\n",
        "df_test.insert(0, target[0], y_test)\n",
        "df_test.insert(0, 'predicted-tree', y_pred)\n",
        "df_test.insert(0, 'predicted-med', y_med)\n",
        "df_test.insert(0, 'err-tree',df_test[target[0]] -  df_test['predicted-tree'])"
      ],
      "execution_count": 0,
      "outputs": []
    },
    {
      "metadata": {
        "id": "flTOVrUdD0pX",
        "colab_type": "code",
        "outputId": "ead60e17-3b11-445a-f65b-9ecbce27cfb9",
        "colab": {
          "base_uri": "https://localhost:8080/",
          "height": 373
        }
      },
      "cell_type": "code",
      "source": [
        "#ax = df_test.plot.scatter(x=target[0], y=features[0], label='True')\n",
        "ax = df_test.plot.scatter(x=target[0], y='predicted-tree')\n",
        "x = np.arange(0, 20)\n",
        "y1 = df_test['predicted-med'].values[0:20]\n",
        "y2 = np.arange(0,20)\n",
        "ax.plot(y1)\n",
        "ax.plot(y2)\n",
        "plt.xlim((-0.5,20.5))\n",
        "ax.fill_between(x, y1, y2, alpha=0.2, color='green')\n",
        "ax.set_ylabel('predicted')\n",
        "plt.savefig(\"Results.png\")\n",
        "files.download(\"Results.png\")"
      ],
      "execution_count": 0,
      "outputs": [
        {
          "output_type": "display_data",
          "data": {
            "image/png": "[encoded data removed]",
            "text/plain": [
              "<matplotlib.figure.Figure at 0x7f55971f83d0>"
            ]
          },
          "metadata": {
            "tags": []
          }
        }
      ]
    },
    {
      "metadata": {
        "id": "ZZUA5DOnDxhA",
        "colab_type": "code",
        "colab": {}
      },
      "cell_type": "code",
      "source": [
        "featuresNice = np.array(['Diff Lact', 'max Lact 72ICUad', 'Ad Age', 'Sofa',\n",
        "       'Hosp Stay before ICU', 'Vent Level 72adICU', 'Is emergency'])"
      ],
      "execution_count": 0,
      "outputs": []
    },
    {
      "metadata": {
        "id": "WhRbpwOKDaHu",
        "colab_type": "code",
        "outputId": "5c245894-f326-436f-f269-30b7a258c5a9",
        "colab": {
          "base_uri": "https://localhost:8080/",
          "height": 381
        }
      },
      "cell_type": "code",
      "source": [
        "importances = clf.best_estimator_.feature_importances_\n",
        "std = np.std([tree.feature_importances_ for tree in clf.best_estimator_.estimators_],\n",
        "             axis=0)\n",
        "indices = np.argsort(importances)[::-1]\n",
        "\n",
        "\n",
        "# Plot the feature importances of the forest\n",
        "plt.figure()\n",
        "plt.title(\"Feature importances\")\n",
        "plt.bar(range(X.shape[1]), importances[indices],\n",
        "       color=\"r\", yerr=std[indices], align=\"center\")\n",
        "plt.xticks(range(X.shape[1]), featuresNice[indices], rotation=90)\n",
        "plt.xlim([-1, X.shape[1]])\n",
        "plt.subplots_adjust(bottom=0.5)\n",
        "plt.savefig(\"FeatureImportance.png\")\n",
        "files.download(\"FeatureImportance.png\")\n",
        "plt.tight_layout(rect=(0,0,1,0.95))"
      ],
      "execution_count": 0,
      "outputs": [
        {
          "output_type": "display_data",
          "data": {
            "image/png": "[encoded data removed]",
            "text/plain": [
              "<matplotlib.figure.Figure at 0x7f5597bd3790>"
            ]
          },
          "metadata": {
            "tags": []
          }
        }
      ]
    },
    {
      "metadata": {
        "id": "r4hK_0LdDdxh",
        "colab_type": "code",
        "colab": {}
      },
      "cell_type": "code",
      "source": [
        ""
      ],
      "execution_count": 0,
      "outputs": []
    }
  ]
}